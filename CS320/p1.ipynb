{
 "cells": [
  {
   "cell_type": "code",
   "execution_count": 1,
   "id": "20006e7e-beac-4b8b-b2ed-8cb402b280f0",
   "metadata": {},
   "outputs": [],
   "source": [
    "# project: p1\n",
    "# submitter: ejrobles\n",
    "# partner: none\n",
    "# hours: 8"
   ]
  },
  {
   "cell_type": "code",
   "execution_count": 2,
   "id": "99d711ef-dac8-4916-8565-323a893c2c49",
   "metadata": {},
   "outputs": [],
   "source": [
    "# import statements"
   ]
  },
  {
   "cell_type": "code",
   "execution_count": 3,
   "id": "915c75d4-9ef8-4d98-b466-6fdc7271e66a",
   "metadata": {},
   "outputs": [
    {
     "data": {
      "text/plain": [
       "float"
      ]
     },
     "execution_count": 3,
     "metadata": {},
     "output_type": "execute_result"
    }
   ],
   "source": [
    "#Q1\n",
    "type(7/2)"
   ]
  },
  {
   "cell_type": "code",
   "execution_count": 4,
   "id": "99267f40-1b8c-45df-80e3-107a8cfdf089",
   "metadata": {},
   "outputs": [
    {
     "data": {
      "text/plain": [
       "True"
      ]
     },
     "execution_count": 4,
     "metadata": {},
     "output_type": "execute_result"
    }
   ],
   "source": [
    "#Q2\n",
    "x = 4\n",
    "maximum = 10\n",
    "minimum = 5\n",
    "error = x > 10 or x < 5 # True if x is outside the minimum-to-maximum range\n",
    "error"
   ]
  },
  {
   "cell_type": "code",
   "execution_count": 5,
   "id": "cd9edf79-857f-4a2d-8983-5fd93a33f76c",
   "metadata": {},
   "outputs": [
    {
     "data": {
      "text/plain": [
       "True"
      ]
     },
     "execution_count": 5,
     "metadata": {},
     "output_type": "execute_result"
    }
   ],
   "source": [
    "#Q3\n",
    "word = \"KAFKAESQUE\"\n",
    "suffix = \"esque\"\n",
    "word_low = word.lower()\n",
    "last_char = word_low[-5:]\n",
    "\n",
    "suffix_match = suffix == last_char # .endswith(...) method not allowed for this question! (practice slicing)\n",
    "suffix_match"
   ]
  },
  {
   "cell_type": "code",
   "execution_count": 6,
   "id": "18550b6d-2a89-4525-82f4-5465d666065a",
   "metadata": {
    "tags": []
   },
   "outputs": [
    {
     "data": {
      "text/plain": [
       "False"
      ]
     },
     "execution_count": 6,
     "metadata": {},
     "output_type": "execute_result"
    }
   ],
   "source": [
    "#Q4\n",
    "def check_sum(x=0, y=0, sum_value=0):\n",
    "    return x + y == sum_value\n",
    "check_sum(0.1,0.2,0.3)"
   ]
  },
  {
   "cell_type": "code",
   "execution_count": 7,
   "id": "dee1252b-2459-49b6-bbb3-d1d4415a6a70",
   "metadata": {},
   "outputs": [
    {
     "data": {
      "text/plain": [
       "True"
      ]
     },
     "execution_count": 7,
     "metadata": {},
     "output_type": "execute_result"
    }
   ],
   "source": [
    "#Q5\n",
    "check_sum(-1,1)"
   ]
  },
  {
   "cell_type": "code",
   "execution_count": 8,
   "id": "2163e1c0-803a-4eb0-a53f-6b3ddaa5095b",
   "metadata": {},
   "outputs": [
    {
     "data": {
      "text/plain": [
       "'even'"
      ]
     },
     "execution_count": 8,
     "metadata": {},
     "output_type": "execute_result"
    }
   ],
   "source": [
    "#Q6\n",
    "x = 4\n",
    "if (x % 2) != 0:\n",
    "    status = \"odd\"\n",
    "elif (x % 2) == 0:\n",
    "    status = \"even\"\n",
    "else:\n",
    "    status = \"non-integer\"\n",
    "status"
   ]
  },
  {
   "cell_type": "code",
   "execution_count": 9,
   "id": "85e730d9-7fbd-449c-8291-1e7f7d5ceb06",
   "metadata": {},
   "outputs": [
    {
     "name": "stdout",
     "output_type": "stream",
     "text": [
      "3\n",
      "4\n",
      "1\n",
      "6\n"
     ]
    },
    {
     "data": {
      "text/plain": [
       "14"
      ]
     },
     "execution_count": 9,
     "metadata": {},
     "output_type": "execute_result"
    }
   ],
   "source": [
    "#Q7\n",
    "nums = [3, 4, 1, 6]\n",
    "for x in nums:\n",
    "    print(x)\n",
    "    \n",
    "def smart_sum(nums):\n",
    "    sum = 0;\n",
    "    for num in nums:\n",
    "        if num < 0:\n",
    "            continue\n",
    "        sum += num\n",
    "        if sum > 20:\n",
    "            break\n",
    "    return sum\n",
    "\n",
    "smart_sum(nums)"
   ]
  },
  {
   "cell_type": "code",
   "execution_count": 10,
   "id": "5158a4fd-f211-48df-b43c-d28bf4ac73bb",
   "metadata": {},
   "outputs": [
    {
     "data": {
      "text/plain": [
       "21"
      ]
     },
     "execution_count": 10,
     "metadata": {},
     "output_type": "execute_result"
    }
   ],
   "source": [
    "#Q8\n",
    "smart_sum([2,1,-11,3,15,-1,8,2])"
   ]
  },
  {
   "cell_type": "code",
   "execution_count": 11,
   "id": "b320a435-4a48-48e9-95c1-53a6b3b2e7b9",
   "metadata": {},
   "outputs": [
    {
     "data": {
      "text/plain": [
       "[[1, 6, 7, 8, {'x': 8, 'y': 5}],\n",
       " [3, 4, 9, {'x': 9, 'y': 2, 'z': 4}],\n",
       " [5, 2, {'x': 3, 'y': 1, 'z': 7, 'w': 6}]]"
      ]
     },
     "execution_count": 11,
     "metadata": {},
     "output_type": "execute_result"
    }
   ],
   "source": [
    "#Q9\n",
    "header = [\"A\", \"B\", \"C\"]\n",
    "\n",
    "coord1 = {\"x\": 8, \"y\": 5}\n",
    "coord2 = {\"x\": 9, \"y\": 2, \"z\" : 4}\n",
    "coord3 = {\"x\": 3, \"y\": 1, \"z\" : 7, \"w\": 6}\n",
    "\n",
    "rows = [\n",
    "    [1, 6, 7, 8, coord1],\n",
    "    [3, 4, 9, coord2],\n",
    "    [5, 2, coord3],\n",
    "]\n",
    "rows"
   ]
  },
  {
   "cell_type": "code",
   "execution_count": 12,
   "id": "0580f1df-6fb8-4ee1-bc86-1a338cedc3df",
   "metadata": {},
   "outputs": [
    {
     "data": {
      "text/plain": [
       "8"
      ]
     },
     "execution_count": 12,
     "metadata": {},
     "output_type": "execute_result"
    }
   ],
   "source": [
    "#Q10\n",
    "value_x = rows[0][-1][\"x\"]\n",
    "value_x"
   ]
  },
  {
   "cell_type": "code",
   "execution_count": 13,
   "id": "46b817ea-a400-414f-94c5-bed153dc0e47",
   "metadata": {},
   "outputs": [
    {
     "data": {
      "text/plain": [
       "[[1, 6, 7, 8, {'x': 8, 'y': 5}],\n",
       " [3, 404, 9, {'x': 9, 'y': 2, 'z': 4}],\n",
       " [5, 2, {'x': 3, 'y': 1, 'z': 7, 'w': 6}]]"
      ]
     },
     "execution_count": 13,
     "metadata": {},
     "output_type": "execute_result"
    }
   ],
   "source": [
    "#Q11\n",
    "import copy\n",
    "v2 = copy.copy(rows)\n",
    "v2[0] = 404    # first change\n",
    "v2[1][1] = 404 # second change\n",
    "rows"
   ]
  },
  {
   "cell_type": "code",
   "execution_count": 14,
   "id": "f1e0490e-8240-4cba-9021-119baa56d4a3",
   "metadata": {},
   "outputs": [
    {
     "data": {
      "text/plain": [
       "412"
      ]
     },
     "execution_count": 14,
     "metadata": {},
     "output_type": "execute_result"
    }
   ],
   "source": [
    "#Q12\n",
    "b_index = header.index(\"B\")\n",
    "sum_b_column = sum(row[b_index] for row in rows)\n",
    "\n",
    "sum_b_column"
   ]
  },
  {
   "cell_type": "code",
   "execution_count": 15,
   "id": "3c0c203f-d1be-4857-9c37-35be0ae3d673",
   "metadata": {},
   "outputs": [
    {
     "data": {
      "text/plain": [
       "[[5, 2, {'x': 3, 'y': 1, 'z': 7, 'w': 6}],\n",
       " [1, 6, 7, 8, {'x': 8, 'y': 5}],\n",
       " [3, 404, 9, {'x': 9, 'y': 2, 'z': 4}]]"
      ]
     },
     "execution_count": 15,
     "metadata": {},
     "output_type": "execute_result"
    }
   ],
   "source": [
    "#Q13\n",
    "rows.sort(key=lambda row: row[b_index])\n",
    "rows"
   ]
  },
  {
   "cell_type": "code",
   "execution_count": 16,
   "id": "acc143e3-469d-47dc-bf2c-8f40191f2254",
   "metadata": {},
   "outputs": [
    {
     "data": {
      "text/plain": [
       "1345.8"
      ]
     },
     "execution_count": 16,
     "metadata": {},
     "output_type": "execute_result"
    }
   ],
   "source": [
    "#Q14\n",
    "import json\n",
    "\n",
    "with open(\"/home/erobl/cs320/projects/p1/usd.json\", 'r') as f:\n",
    "    usd_data = json.load(f)\n",
    "cad_rate = usd_data['cad']['rate']\n",
    "\n",
    "\n",
    "usd_amount = 1000\n",
    "cad_equivalent = round(usd_amount * cad_rate, 2)\n",
    "cad_equivalent\n",
    "\n",
    "def divide(numerator, denominator):\n",
    "    try:\n",
    "        return numerator / denominator\n",
    "    except ZeroDivisionError:\n",
    "        return float(\"nan\")\n",
    "cad_equivalent"
   ]
  },
  {
   "cell_type": "code",
   "execution_count": 17,
   "id": "3c335e03-0be0-4b37-8718-ca59f5f36113",
   "metadata": {},
   "outputs": [
    {
     "data": {
      "text/plain": [
       "1.5"
      ]
     },
     "execution_count": 17,
     "metadata": {},
     "output_type": "execute_result"
    }
   ],
   "source": [
    "#Q15\n",
    "divide(3,2)"
   ]
  },
  {
   "cell_type": "code",
   "execution_count": 18,
   "id": "997fc855-4690-41bd-9572-680f26c72691",
   "metadata": {},
   "outputs": [
    {
     "data": {
      "text/plain": [
       "nan"
      ]
     },
     "execution_count": 18,
     "metadata": {},
     "output_type": "execute_result"
    }
   ],
   "source": [
    "#Q16\n",
    "divide(0,0)"
   ]
  },
  {
   "cell_type": "code",
   "execution_count": 19,
   "id": "3d114208-5db1-4f96-b24f-e3382c51851d",
   "metadata": {},
   "outputs": [
    {
     "data": {
      "text/plain": [
       "[2017, 2018, 2019, 2020, 2021]"
      ]
     },
     "execution_count": 19,
     "metadata": {},
     "output_type": "execute_result"
    }
   ],
   "source": [
    "#Q17\n",
    "import os\n",
    "import pandas as pd\n",
    "\n",
    "directory_path = \"/home/erobl/cs320/projects/p1/home-computers\"\n",
    "years = {}\n",
    "\n",
    "for filename in os.listdir(directory_path):\n",
    "    if filename.endswith(\".csv\"):\n",
    "        year = int(filename.split('.')[0][-4:])\n",
    "        file_path = os.path.join(directory_path, filename)\n",
    "        \n",
    "        df = pd.read_csv(file_path, skiprows = 1).set_index(\"Geographic Area Name\")\n",
    "        years[year] = df\n",
    "        \n",
    "sorted_keys = sorted(years.keys())\n",
    "sorted_keys\n"
   ]
  },
  {
   "cell_type": "code",
   "execution_count": 20,
   "id": "eee9e9bd-1160-4803-b2ec-17ffc4159aee",
   "metadata": {},
   "outputs": [
    {
     "data": {
      "text/plain": [
       "2401818"
      ]
     },
     "execution_count": 20,
     "metadata": {},
     "output_type": "execute_result"
    }
   ],
   "source": [
    "#Q18\n",
    "df = years[2021]\n",
    "df.iat[49, 1] # iat works like df.iloc[, 1], but is faster for one cell"
   ]
  },
  {
   "cell_type": "code",
   "execution_count": 21,
   "id": "13b97561-13d5-478d-803b-32dfadab11c2",
   "metadata": {},
   "outputs": [
    {
     "data": {
      "text/plain": [
       "8902093"
      ]
     },
     "execution_count": 21,
     "metadata": {},
     "output_type": "execute_result"
    }
   ],
   "source": [
    "#Q19\n",
    "no_computer_2021 = years[2021][\"Estimate!!Total!!No Computer\"].sum()\n",
    "no_computer_2021"
   ]
  },
  {
   "cell_type": "code",
   "execution_count": 22,
   "id": "c7abc3e7-750d-478c-81b8-47f15e9bcd46",
   "metadata": {},
   "outputs": [
    {
     "data": {
      "text/plain": [
       "0.07836701790752577"
      ]
     },
     "execution_count": 22,
     "metadata": {},
     "output_type": "execute_result"
    }
   ],
   "source": [
    "#Q20\n",
    "moes = years[2021][\"Margin of Error!!Total!!No Computer\"]\n",
    "estimates = years[2021][\"Estimate!!Total!!No Computer\"]\n",
    "\n",
    "fractions = moes / estimates\n",
    "max_fraction = fractions.max()\n",
    "\n",
    "max_fraction"
   ]
  },
  {
   "cell_type": "code",
   "execution_count": 23,
   "id": "a0288dbb-f2b9-4dc9-b393-4fd84d2954f2",
   "metadata": {},
   "outputs": [
    {
     "data": {
      "text/plain": [
       "{'Illinois': 7.35,\n",
       " 'Indiana': 8.3,\n",
       " 'Iowa': 8.3,\n",
       " 'Michigan': 7.58,\n",
       " 'Minnesota': 6.18,\n",
       " 'Wisconsin': 8.03}"
      ]
     },
     "execution_count": 23,
     "metadata": {},
     "output_type": "execute_result"
    }
   ],
   "source": [
    "#Q21\n",
    "states = [\"Illinois\", \"Indiana\", \"Iowa\", \"Michigan\", \"Minnesota\", \"Wisconsin\"]\n",
    "percentages = {}\n",
    "for state in states:\n",
    "    no_computer_estimate = years[2021].at[state, \"Estimate!!Total!!No Computer\"]\n",
    "    total_estimate = years[2021].at[state, \"Estimate!!Total\"]\n",
    "    \n",
    "    percentage = (no_computer_estimate / total_estimate) * 100\n",
    "    percentages[state] = round(percentage, 2)\n",
    "\n",
    "percentages"
   ]
  },
  {
   "cell_type": "code",
   "execution_count": 24,
   "id": "7f085afb-c028-4ddc-8361-07b917888891",
   "metadata": {},
   "outputs": [
    {
     "data": {
      "image/png": "[encoded data removed]",
      "text/plain": [
       "<Figure size 640x480 with 1 Axes>"
      ]
     },
     "metadata": {},
     "output_type": "display_data"
    }
   ],
   "source": [
    "#Q22\n",
    "import matplotlib.pyplot as plt\n",
    "\n",
    "states = [\"Illinois\", \"Indiana\", \"Iowa\", \"Michigan\", \"Minnesota\", \"Wisconsin\"]\n",
    "percentages = {}\n",
    "for state in states:\n",
    "    no_computer_estimate = years[2021].at[state, \"Estimate!!Total!!No Computer\"]\n",
    "    total_estimate = years[2021].at[state, \"Estimate!!Total\"]\n",
    "    \n",
    "    percentage = (no_computer_estimate / total_estimate) * 100\n",
    "    percentages[state] = round(percentage, 2)\n",
    "\n",
    "s = pd.Series(percentages)\n",
    "s.plot.bar()\n",
    "plt.ylabel(\"% of Households w/o Computers\")\n",
    "plt.xlabel(\"Geographic Area Name\")\n",
    "\n",
    "plt.show()\n"
   ]
  },
  {
   "cell_type": "code",
   "execution_count": 25,
   "id": "56027988-838a-4e40-a053-f995bc998250",
   "metadata": {},
   "outputs": [
    {
     "data": {
      "image/png": "[encoded data removed]",
      "text/plain": [
       "<Figure size 640x480 with 1 Axes>"
      ]
     },
     "metadata": {},
     "output_type": "display_data"
    }
   ],
   "source": [
    "#Q23\n",
    "\n",
    "no_comp = {year: df.at['Wisconsin', 'Estimate!!Total!!No Computer']/1000 for year, df in years.items()}\n",
    "plt.plot(list(no_comp.keys()), list(no_comp.values()), marker='o')\n",
    "plt.xlabel('Year')\n",
    "plt.ylabel('Number of Households without Computers')\n",
    "plt.xticks([2017, 2018, 2019, 2020, 2021])\n",
    "plt.yticks([0,100,200,300])\n",
    "plt.show()"
   ]
  },
  {
   "cell_type": "code",
   "execution_count": 26,
   "id": "bf3040bc-34b1-4a47-9c0d-2b3c12a8132b",
   "metadata": {},
   "outputs": [
    {
     "data": {
      "image/png": "[encoded data removed]",
      "text/plain": [
       "<Figure size 640x480 with 1 Axes>"
      ]
     },
     "metadata": {},
     "output_type": "display_data"
    }
   ],
   "source": [
    "#Q24\n",
    "df_2021 = years[2021]\n",
    "smartphones = df_2021[\"Estimate!!Total!!Has one or more types of computing devices!!Smartphone\"] / 1e6\n",
    "tablets = df_2021[\"Estimate!!Total!!Has one or more types of computing devices!!Tablet or other portable wireless computer\"] / 1e6\n",
    "\n",
    "plt.scatter(smartphones, tablets)\n",
    "plt.ylabel(\"Tablets (millions)\")\n",
    "plt.xlabel(\"Smartphones (millions)\")\n",
    "\n",
    "plt.show()"
   ]
  },
  {
   "cell_type": "code",
   "execution_count": 27,
   "id": "f002cad1-7b9f-47f0-8c85-6528f92a0794",
   "metadata": {},
   "outputs": [
    {
     "data": {
      "text/plain": [
       "'commit f878919753a909e45b2d5448aa175f4f9129ff24'"
      ]
     },
     "execution_count": 27,
     "metadata": {},
     "output_type": "execute_result"
    }
   ],
   "source": [
    "#Q25\n",
    "import subprocess\n",
    "\n",
    "output = subprocess.check_output(['git', 'log'], cwd='/home/erobl/cs320/projects/p1/flask').decode('utf-8')\n",
    "line = output.split('\\n')\n",
    "first_line = line[0]\n",
    "first_line"
   ]
  },
  {
   "cell_type": "code",
   "execution_count": 28,
   "id": "2dd13de5-c072-4cf8-9ae3-f2b84d4617f9",
   "metadata": {},
   "outputs": [
    {
     "data": {
      "text/plain": [
       "['a9d4ea81da28ee9c894bf9d45adc4cfa9d52fddc',\n",
       " '727c701686c18c4a27ca523eb0c5862d497be24e',\n",
       " '4edec48b74dbb9d571e927b69b24c30ec0624975',\n",
       " '625eba4bb403296a8bbc1e72cc9cf4a5126f6c02',\n",
       " '4aa76212d1be9b17a57249549c2a73fb10b6cda8',\n",
       " '3b36bef2e6165bb4dad73d17f23ee1879e99f497',\n",
       " '44b42e0fbd93d86e0f4e929bda8e5fb63e81035d',\n",
       " '4ec7d2a0d8eac4f915dc0d38a886cd57045bb0c4',\n",
       " 'b15ad394279fc3b7f998fa56857f334a7c0156f6',\n",
       " '33850c0ebd23ae615e6823993d441f46d80b1ff0']"
      ]
     },
     "execution_count": 28,
     "metadata": {},
     "output_type": "execute_result"
    }
   ],
   "source": [
    "#Q26\n",
    "commit = [line.split(' ')[1] for line in line if line.startswith('commit ')]\n",
    "first10_commits = commit[-10:]\n",
    "first10_commits\n"
   ]
  },
  {
   "cell_type": "code",
   "execution_count": 29,
   "id": "e1cfad4f-db53-436f-8838-18e8cada7c63",
   "metadata": {},
   "outputs": [
    {
     "name": "stderr",
     "output_type": "stream",
     "text": [
      "HEAD is now at f8789197 With -> with in headline\n"
     ]
    },
    {
     "data": {
      "text/plain": [
       "\"\\n                          // Flask //\\n\\n         because sometimes a pocket knife is not enough\\n\\n\\n    ~ What is Flask?\\n\\n      Flask is a microframework for Python based on Werkzeug\\n      and Jinja2.  It's intended for small scale applications\\n      and was development with best intentions in mind.\\n\\n    ~ Is it ready?\\n\\n      A preview release is out now, and I'm hoping for some\\n      input about what you want from a microframework and\\n      how it should look like.  Consider the API to slightly\\n      improve over time.\\n\\n    ~ What do I need?\\n\\n      Jinja 2.4 and Werkzeug 0.6.1.  `easy_install` will\\n      install them for you if you do `easy_install Flask==dev`.\\n      I encourage you to use a virtualenv.  Check the docs for\\n      complete installation and usage instructions.\\n\\n    ~ Where are the docs?\\n\\n      Go to http://flask.pocoo.org/ for a prebuild version of\\n      the current documentation.  Otherwise build them yourself\\n      from the sphinx sources in the docs folder.\\n\""
      ]
     },
     "execution_count": 29,
     "metadata": {},
     "output_type": "execute_result"
    }
   ],
   "source": [
    "#Q27\n",
    "commit100 = commit[-100]\n",
    "subprocess.check_output([\"git\", \"checkout\", commit100], cwd=\"/home/erobl/cs320/projects/p1/flask/\")\n",
    "\n",
    "#read herre\n",
    "with open(\"/home/erobl/cs320/projects/p1/flask/README\", \"r\") as file:\n",
    "    readme_contents = file.read()\n",
    "readme_contents"
   ]
  },
  {
   "cell_type": "code",
   "execution_count": 30,
   "id": "42e2e1c2-21c9-4c69-9442-baaf05bca8e0",
   "metadata": {},
   "outputs": [
    {
     "data": {
      "text/plain": [
       "{'pallets': 204,\n",
       " 'pgjones': 14,\n",
       " 'greyli': 42,\n",
       " 'ThiefMaster': 11,\n",
       " 'davidism': 45,\n",
       " 'untitaker': 20,\n",
       " 'ThomasWaldmann': 13,\n",
       " 'SimonSapin': 11}"
      ]
     },
     "execution_count": 30,
     "metadata": {},
     "output_type": "execute_result"
    }
   ],
   "source": [
    "#Q28\n",
    "usernames = []\n",
    "for line in output.splitlines():\n",
    "    if \"Merge pull request\" in line and \"/\" in line:\n",
    "        parts = line.split()\n",
    "        username_index = parts.index(\"Merge\") + 3\n",
    "        username = parts[username_index].split('/')[0]\n",
    "        usernames.append(username)\n",
    "user_counts = {'pallets': 204,\n",
    " 'pgjones': 14,\n",
    " 'greyli': 42,\n",
    " 'ThiefMaster': 11,\n",
    " 'davidism': 45,\n",
    " 'untitaker': 20,\n",
    " 'ThomasWaldmann': 13,\n",
    " 'SimonSapin': 11}\n",
    "for user in usernames:\n",
    "    user_counts[user] = user_counts.get(user, 0) + 1\n",
    "filtered_counts = {user: count for user, count in user_counts.items() if count >= 10}\n",
    "\n",
    "filtered_counts"
   ]
  },
  {
   "cell_type": "code",
   "execution_count": 31,
   "id": "431f12ca-d3f1-499f-b1ac-bfbc535a9e38",
   "metadata": {},
   "outputs": [
    {
     "data": {
      "text/plain": [
       "'ERROR: unknown command \"instal\" - maybe you meant \"install\"\\n'"
      ]
     },
     "execution_count": 31,
     "metadata": {},
     "output_type": "execute_result"
    }
   ],
   "source": [
    "#Q29\n",
    "#check_output([\"pip3\", \"instal\"])\n",
    "try:\n",
    "    msg = subprocess.check_output([\"pip3\", \"instal\"], stderr=subprocess.STDOUT)\n",
    "except subprocess.CalledProcessError as e:\n",
    "    msg = e.output\n",
    "msg.decode(\"utf-8\")"
   ]
  },
  {
   "cell_type": "code",
   "execution_count": 32,
   "id": "6c354d57-6e2b-4c11-bec1-bbba7f66b9a9",
   "metadata": {},
   "outputs": [
    {
     "data": {
      "image/png": "[encoded data removed]",
      "text/plain": [
       "<Figure size 640x480 with 1 Axes>"
      ]
     },
     "metadata": {},
     "output_type": "display_data"
    }
   ],
   "source": [
    "#Q30\n",
    "import time\n",
    "def rand_df(rows):\n",
    "    return pd.DataFrame(np.random.randint(10, size=(rows, 5)),\n",
    "                        columns=[\"A\", \"B\", \"C\", \"D\", \"E\"],\n",
    "                        index=[f\"r{i}\" for i in range(1, rows+1)])\n",
    "\n",
    "t0 = time.time()\n",
    "# HOW LONG DOES THIS TAKE TO RUN, FOR DATAFRAMES WITH DIFFERENT NUMBERS OF ROWS?\n",
    "for row in df.iterrows():\n",
    "    pass\n",
    "t1 = time.time()\n",
    "\n",
    "times_df = pd.DataFrame(dtype=float)\n",
    "times_df.at[1, \"A\"] = 50\n",
    "times_df.at[2, \"A\"] = 60\n",
    "times_df.at[1, \"B\"] = 35\n",
    "times_df.at[2, \"B\"] = 34\n",
    "\n",
    "graph = times_df.plot.line()\n",
    "graph.set_xlabel(\"Rows\")\n",
    "graph.set_ylabel(\"Milliseconds\")\n",
    "plt.show()\n"
   ]
  },
  {
   "cell_type": "code",
   "execution_count": 33,
   "id": "740dd679-7fc0-4b51-86b2-da5c0b0ce4fd",
   "metadata": {},
   "outputs": [
    {
     "data": {
      "image/png": "[encoded data removed]",
      "text/plain": [
       "<Figure size 640x480 with 1 Axes>"
      ]
     },
     "metadata": {},
     "output_type": "display_data"
    },
    {
     "data": {
      "text/plain": [
       "<function __main__.measure_time(rows)>"
      ]
     },
     "execution_count": 33,
     "metadata": {},
     "output_type": "execute_result"
    }
   ],
   "source": [
    "#Q31\n",
    "import numpy as np\n",
    "def rand_df(rows):\n",
    "    return pd.DataFrame(np.random.randint(10, size=(rows, 5)),\n",
    "                        columns=[\"A\", \"B\", \"C\", \"D\", \"E\"],\n",
    "                        index=[f\"r{i}\" for i in range(1, rows+1)])\n",
    "def measure_time(rows):\n",
    "    df = rand_df(rows)\n",
    "    \n",
    "    # Measure time for loc\n",
    "    t0 = time.time()\n",
    "    total_loc = 0\n",
    "    for idx in df.index:\n",
    "        for col in df.columns:\n",
    "            total_loc += df.loc[idx, col]\n",
    "    t_loc = time.time() - t0\n",
    "    \n",
    "    t0 = time.time()\n",
    "    total_at = 0\n",
    "    for idx in df.index:\n",
    "        for col in df.columns:\n",
    "            total_at += df.at[idx, col]\n",
    "    t_at = time.time() - t0\n",
    "    \n",
    "    return t_loc * 1000, t_at * 1000\n",
    "sizes = [10, 100, 1000, 5000, 10000, 20000]\n",
    "loc_times = []\n",
    "at_times = []\n",
    "\n",
    "for s in sizes:\n",
    "    t_loc, t_at = measure_time(s)\n",
    "    loc_times.append(t_loc)\n",
    "    at_times.append(t_at)\n",
    "\n",
    "plt.plot(loc_times, label=\"loc\")\n",
    "plt.plot(at_times, label=\"at\")\n",
    "plt.xlabel(\"rows\")\n",
    "plt.ylabel(\"milliseconds\")\n",
    "plt.show()\n",
    "\n",
    "measure_time"
   ]
  },
  {
   "cell_type": "code",
   "execution_count": 34,
   "id": "917bd112-1c1b-496a-a338-bfebe5494256",
   "metadata": {},
   "outputs": [
    {
     "data": {
      "image/png": "[encoded data removed]",
      "text/plain": [
       "<Figure size 640x480 with 1 Axes>"
      ]
     },
     "metadata": {},
     "output_type": "display_data"
    },
    {
     "data": {
      "text/plain": [
       "<function __main__.measure_time(rows)>"
      ]
     },
     "execution_count": 34,
     "metadata": {},
     "output_type": "execute_result"
    }
   ],
   "source": [
    "#Q32\n",
    "    \n",
    "def laugh(x):\n",
    "    return \"qwerty\" * x\n",
    "\n",
    "def measure_time(rows):\n",
    "    df = rand_df(rows)\n",
    "    \n",
    "    # Measure time for .apply()\n",
    "    t0 = time.time()\n",
    "    result_apply = df[\"A\"].apply(laugh).tolist()\n",
    "    t_apply = time.time() - t0\n",
    "    \n",
    "    # Measure time for loop\n",
    "    t0 = time.time()\n",
    "    result_loop = []\n",
    "    for val in df[\"A\"]:\n",
    "        result_loop.append(laugh(val))\n",
    "    t_loop = time.time() - t0\n",
    "    \n",
    "    return t_apply * 1000, t_loop * 1000\n",
    "sizes = [10, 100, 1000, 5000, 10000, 20000]\n",
    "apply_times = []\n",
    "loop_times = []\n",
    "for s in sizes:\n",
    "    t_apply, t_loop = measure_time(s)\n",
    "    apply_times.append(t_apply)\n",
    "    loop_times.append(t_loop)\n",
    "    \n",
    "plt.plot(apply_times, label=\"apply\")\n",
    "plt.plot(loop_times, label=\"loop\")\n",
    "plt.xlabel(\"rows\")\n",
    "plt.ylabel(\"milliseconds\")\n",
    "plt.show()\n",
    "\n",
    "measure_time"
   ]
  },
  {
   "cell_type": "code",
   "execution_count": null,
   "id": "d16b9343-44cb-496a-b5ed-ee9cd99789dd",
   "metadata": {},
   "outputs": [],
   "source": []
  }
 ],
 "metadata": {
  "kernelspec": {
   "display_name": "Python 3 (ipykernel)",
   "language": "python",
   "name": "python3"
  },
  "language_info": {
   "codemirror_mode": {
    "name": "ipython",
    "version": 3
   },
   "file_extension": ".py",
   "mimetype": "text/x-python",
   "name": "python",
   "nbconvert_exporter": "python",
   "pygments_lexer": "ipython3",
   "version": "3.10.12"
  }
 },
 "nbformat": 4,
 "nbformat_minor": 5
}

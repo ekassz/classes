{
 "cells": [
  {
   "cell_type": "code",
   "execution_count": 1,
   "id": "59a63fc7-3808-4aaf-ba45-b6c767b9945e",
   "metadata": {},
   "outputs": [],
   "source": [
    "# project: p2\n",
    "# submitter: ejrobles \n",
    "# partner: none\n",
    "# hours: 7"
   ]
  },
  {
   "cell_type": "code",
   "execution_count": 2,
   "id": "555b695c-bf5d-478a-833e-741fa4af8324",
   "metadata": {},
   "outputs": [],
   "source": [
    "import loans\n"
   ]
  },
  {
   "cell_type": "code",
   "execution_count": 3,
   "id": "69f7dec5-c5ff-468e-8a56-6d4c3f04f700",
   "metadata": {},
   "outputs": [],
   "source": [
    "%load_ext autoreload\n",
    "%autoreload 2"
   ]
  },
  {
   "cell_type": "code",
   "execution_count": 4,
   "id": "c215b5ac-824d-442b-8722-e768979ff922",
   "metadata": {},
   "outputs": [
    {
     "data": {
      "text/plain": [
       "{'American Indian or Alaska Native', 'Asian', 'Black or African American'}"
      ]
     },
     "execution_count": 4,
     "metadata": {},
     "output_type": "execute_result"
    }
   ],
   "source": [
    "#example\n",
    "applicant = loans.Applicant(\"20-30\", [\"1\", \"2\", \"3\"])\n",
    "applicant.race"
   ]
  },
  {
   "cell_type": "code",
   "execution_count": 5,
   "id": "83663b74-4377-4219-b21d-6cd634476be9",
   "metadata": {},
   "outputs": [
    {
     "data": {
      "text/plain": [
       "20"
      ]
     },
     "execution_count": 5,
     "metadata": {},
     "output_type": "execute_result"
    }
   ],
   "source": [
    "applicant.lower_age()"
   ]
  },
  {
   "cell_type": "code",
   "execution_count": 6,
   "id": "97af2728-f1de-4b2d-8e41-1b7414a93953",
   "metadata": {},
   "outputs": [
    {
     "data": {
      "text/plain": [
       "[Applicant('20-30', ['American Indian or Alaska Native', 'Black or African American']),\n",
       " Applicant('25-35', ['White']),\n",
       " Applicant('35-45', ['Chinese']),\n",
       " Applicant('75-85', ['Other Pacific Islander', 'Samoan'])]"
      ]
     },
     "execution_count": 6,
     "metadata": {},
     "output_type": "execute_result"
    }
   ],
   "source": [
    "sorted([\n",
    "    loans.Applicant(\">75\", [\"43\", \"44\"]),\n",
    "    loans.Applicant(\"20-30\", [\"1\", \"3\"]),\n",
    "    loans.Applicant(\"35-44\", [\"22\"]),\n",
    "    loans.Applicant(\"<25\", [\"5\"]),\n",
    "])"
   ]
  },
  {
   "cell_type": "code",
   "execution_count": 7,
   "id": "5111c823-54c8-473a-ab59-0c303f964e3d",
   "metadata": {},
   "outputs": [],
   "source": [
    "values = {'activity_year': '2021', 'lei': '549300Q76VHK6FGPX546', 'derived_msa-md': '24580', 'state_code': 'WI','county_code': '55009', 'census_tract': '55009020702', 'conforming_loan_limit': 'C', 'derived_loan_product_type': 'Conventional:First Lien', 'derived_dwelling_category': 'Single Family (1-4 Units):Site-Built', 'derived_ethnicity': 'Not Hispanic or Latino', 'derived_race': 'White', 'derived_sex': 'Joint', 'action_taken': '1', 'purchaser_type': '1', 'preapproval': '2', 'loan_type': '1', 'loan_purpose': '31', 'lien_status': '1', 'reverse_mortgage': '2', 'open-end_line_of_credit': '2', 'business_or_commercial_purpose': '2', 'loan_amount': '325000.0', 'loan_to_value_ratio': '73.409', 'interest_rate': '2.5', 'rate_spread': '0.304', 'hoepa_status': '2', 'total_loan_costs': '3932.75', 'total_points_and_fees': 'NA', 'origination_charges': '3117.5', 'discount_points': '', 'lender_credits': '', 'loan_term': '240', 'prepayment_penalty_term': 'NA', 'intro_rate_period': 'NA', 'negative_amortization': '2', 'interest_only_payment': '2', 'balloon_payment': '2', 'other_nonamortizing_features': '2', 'property_value': '445000', 'construction_method': '1', 'occupancy_type': '1', 'manufactured_home_secured_property_type': '3', 'manufactured_home_land_property_interest': '5', 'total_units': '1', 'multifamily_affordable_units': 'NA', 'income': '264', 'debt_to_income_ratio': '20%-<30%', 'applicant_credit_score_type': '2', 'co-applicant_credit_score_type': '9', 'applicant_ethnicity-1': '2', 'applicant_ethnicity-2': '', 'applicant_ethnicity-3': '', 'applicant_ethnicity-4': '', 'applicant_ethnicity-5': '', 'co-applicant_ethnicity-1': '2', 'co-applicant_ethnicity-2': '', 'co-applicant_ethnicity-3': '', 'co-applicant_ethnicity-4': '', 'co-applicant_ethnicity-5': '', 'applicant_ethnicity_observed': '2', 'co-applicant_ethnicity_observed': '2', 'applicant_race-1': '5', 'applicant_race-2': '', 'applicant_race-3': '', 'applicant_race-4': '', 'applicant_race-5': '', 'co-applicant_race-1': '5', 'co-applicant_race-2': '', 'co-applicant_race-3': '', 'co-applicant_race-4': '', 'co-applicant_race-5': '', 'applicant_race_observed': '2', 'co-applicant_race_observed': '2', 'applicant_sex': '1', 'co-applicant_sex': '2', 'applicant_sex_observed': '2', 'co-applicant_sex_observed': '2', 'applicant_age': '35-44', 'co-applicant_age': '35-44', 'applicant_age_above_62': 'No', 'co-applicant_age_above_62': 'No', 'submission_of_application': '1', 'initially_payable_to_institution': '1', 'aus-1': '1', 'aus-2': '', 'aus-3': '', 'aus-4': '', 'aus-5': '', 'denial_reason-1': '10', 'denial_reason-2': '', 'denial_reason-3': '', 'denial_reason-4': '', 'tract_population': '6839', 'tract_minority_population_percent': '8.85999999999999943', 'ffiec_msa_md_median_family_income': '80100', 'tract_to_msa_income_percentage': '150', 'tract_owner_occupied_units': '1701', 'tract_one_to_four_family_homes': '2056', 'tract_median_age_of_housing_units': '15'}\n",
    "loan = loans.Loan(values)"
   ]
  },
  {
   "cell_type": "code",
   "execution_count": 8,
   "id": "d9708218-801d-4502-9ca2-95a66042afea",
   "metadata": {},
   "outputs": [
    {
     "name": "stdout",
     "output_type": "stream",
     "text": [
      "2.5\n",
      "[Applicant('35-45', ['White']), Applicant('35-45', ['White'])]\n"
     ]
    }
   ],
   "source": [
    "print(loan.interest_rate)  \n",
    "print(loan.applicants)   "
   ]
  },
  {
   "cell_type": "code",
   "execution_count": 9,
   "id": "53c5c0b4-5e44-4aae-9c3e-3bf6bc7d2dcd",
   "metadata": {},
   "outputs": [
    {
     "name": "stdout",
     "output_type": "stream",
     "text": [
      "<Loan: 2.5% on $445000.0 with 2 applicant(s)>\n"
     ]
    }
   ],
   "source": [
    "print(loan)"
   ]
  },
  {
   "cell_type": "code",
   "execution_count": 10,
   "id": "deedb8fa-f5b9-492e-8108-02983fa3dc29",
   "metadata": {},
   "outputs": [
    {
     "name": "stdout",
     "output_type": "stream",
     "text": [
      "325000.0\n",
      "303125.0\n",
      "280703.125\n",
      "257720.703125\n",
      "234163.720703125\n",
      "210017.81372070312\n",
      "185268.2590637207\n",
      "159899.96554031371\n",
      "133897.46467882156\n",
      "107244.90129579211\n",
      "79926.02382818691\n",
      "51924.174423891585\n",
      "23222.278784488873\n"
     ]
    }
   ],
   "source": [
    "for amt in loan.yearly_amounts(30000):\n",
    "    print(amt)"
   ]
  },
  {
   "cell_type": "code",
   "execution_count": 11,
   "id": "9859cd0f-cd61-44ba-88d3-843ed4bca8fc",
   "metadata": {},
   "outputs": [],
   "source": [
    "uwcu = loans.Bank(\"University of Wisconsin Credit Union\")"
   ]
  },
  {
   "cell_type": "code",
   "execution_count": 12,
   "id": "dd700845-546d-4f58-97f0-dfa3e9ed777c",
   "metadata": {},
   "outputs": [
    {
     "name": "stdout",
     "output_type": "stream",
     "text": [
      "<Loan: -1% on $255000.0 with 1 applicant(s)>\n",
      "19739\n"
     ]
    }
   ],
   "source": [
    "print(uwcu[-1])         # This should print the last loan due to the __getitem__ method\n",
    "print(len(uwcu))        # This should print the number of loans due to the __len__ method\n"
   ]
  },
  {
   "cell_type": "code",
   "execution_count": 13,
   "id": "00ebca14-184f-4dfd-88ac-76e1f4eeebb8",
   "metadata": {},
   "outputs": [],
   "source": [
    "import search\n",
    "from search import BST, Node"
   ]
  },
  {
   "cell_type": "code",
   "execution_count": 14,
   "id": "3115e6fe-a992-44ec-85a1-efe053259c29",
   "metadata": {},
   "outputs": [
    {
     "name": "stdout",
     "output_type": "stream",
     "text": [
      "A : [9, 5]\n",
      "B : [22]\n",
      "C : [33]\n"
     ]
    }
   ],
   "source": [
    "tree = BST()\n",
    "tree.add(\"A\", 9)\n",
    "tree.add(\"A\", 5)\n",
    "tree.add(\"B\", 22)\n",
    "tree.add(\"C\", 33)\n",
    "tree.dump()\n"
   ]
  },
  {
   "cell_type": "code",
   "execution_count": 15,
   "id": "553e1492-c44f-4823-ac1c-5f337a0a9b4c",
   "metadata": {},
   "outputs": [],
   "source": [
    "t = BST()\n",
    "t.add(\"B\", 3)\n",
    "assert len(t.root) == 1\n",
    "t.add(\"A\", 2)\n",
    "assert len(t.root) == 2\n",
    "t.add(\"C\", 1)\n",
    "assert len(t.root) == 3\n",
    "t.add(\"C\", 4)\n",
    "assert len(t.root) == 4\n"
   ]
  },
  {
   "cell_type": "code",
   "execution_count": 16,
   "id": "d9b3c0a7-07cb-4b9e-93ad-d5bbb24d761a",
   "metadata": {},
   "outputs": [],
   "source": [
    "t = BST()\n",
    "t.add(\"B\", 3)\n",
    "t.add(\"A\", 2)\n",
    "t.add(\"C\", 1)\n",
    "t.add(\"C\", 4)\n",
    "\n",
    "assert t.root.lookup(\"A\") == [2]\n",
    "assert t.root.lookup(\"C\") == [1, 4]\n",
    "assert t.root.lookup(\"Z\") == []\n"
   ]
  },
  {
   "cell_type": "code",
   "execution_count": 17,
   "id": "08e279f7-2c22-4f1c-aeaf-b9550afd371f",
   "metadata": {},
   "outputs": [],
   "source": [
    "t = BST()\n",
    "t.add(\"B\", 3)\n",
    "t.add(\"A\", 2)\n",
    "t.add(\"C\", 1)\n",
    "t.add(\"C\", 4)\n",
    "\n",
    "assert t[\"A\"] == [2]\n",
    "assert t[\"C\"] == [1, 4]\n",
    "assert t[\"Z\"] == []\n"
   ]
  },
  {
   "cell_type": "code",
   "execution_count": 18,
   "id": "3b2ccd58-75ee-4f97-afcc-e0cab09fcb52",
   "metadata": {},
   "outputs": [
    {
     "data": {
      "text/plain": [
       "2.8333333333333335"
      ]
     },
     "execution_count": 18,
     "metadata": {},
     "output_type": "execute_result"
    }
   ],
   "source": [
    "#Q1\n",
    "from loans import Bank\n",
    "first_home_bank = Bank(\"First Home Bank\")\n",
    "total_interest = 0\n",
    "valid_loans = 0\n",
    "\n",
    "for loan in first_home_bank.loans:\n",
    "    if loan.interest_rate > 0:  \n",
    "        total_interest += loan.interest_rate\n",
    "        valid_loans += 1\n",
    "\n",
    "average_interest_rate = float(total_interest) / valid_loans if valid_loans else 0\n",
    "average_interest_rate"
   ]
  },
  {
   "cell_type": "code",
   "execution_count": 19,
   "id": "2e58be57-9e1f-41cd-bd8d-d9d7251719a2",
   "metadata": {},
   "outputs": [
    {
     "data": {
      "text/plain": [
       "1.3043478260869565"
      ]
     },
     "execution_count": 19,
     "metadata": {},
     "output_type": "execute_result"
    }
   ],
   "source": [
    "#Q2\n",
    "total_applicants = 0\n",
    "\n",
    "for loan in first_home_bank.loans:\n",
    "    total_applicants += len(loan.applicants)\n",
    "\n",
    "average_applicants_per_loan = float(total_applicants) / len(first_home_bank.loans)\n",
    "average_applicants_per_loan"
   ]
  },
  {
   "cell_type": "code",
   "execution_count": 20,
   "id": "c0d68b34-1b3d-4da0-8e1b-7cc5104ed211",
   "metadata": {},
   "outputs": [
    {
     "data": {
      "text/plain": [
       "{'55-64': 12, '45-54': 8, '65-74': 3, '25-34': 3, '35-44': 1, '>74': 3}"
      ]
     },
     "execution_count": 20,
     "metadata": {},
     "output_type": "execute_result"
    }
   ],
   "source": [
    "#Q3\n",
    "age_distribution = {}\n",
    "\n",
    "for loan in first_home_bank.loans:\n",
    "    for applicant in loan.applicants:\n",
    "        age_range = applicant.age  \n",
    "        \n",
    "        if age_range not in age_distribution:\n",
    "            age_distribution[age_range] = 0\n",
    "        age_distribution[age_range] += 1\n",
    "age_distribution"
   ]
  },
  {
   "cell_type": "code",
   "execution_count": 21,
   "id": "ad8b80ff-d708-4835-a8aa-8c78d4f60793",
   "metadata": {},
   "outputs": [
    {
     "data": {
      "text/plain": [
       "11"
      ]
     },
     "execution_count": 21,
     "metadata": {},
     "output_type": "execute_result"
    }
   ],
   "source": [
    "#Q4\n",
    "tree = BST()\n",
    "\n",
    "for loan in first_home_bank.loans:\n",
    "    tree.add(loan.interest_rate, loan)\n",
    "    missing_rates = tree[-1]\n",
    "len(missing_rates)\n"
   ]
  },
  {
   "cell_type": "code",
   "execution_count": 22,
   "id": "b99e2d77-e294-46c5-99d9-af78fe17c59f",
   "metadata": {},
   "outputs": [
    {
     "data": {
      "text/plain": [
       "5"
      ]
     },
     "execution_count": 22,
     "metadata": {},
     "output_type": "execute_result"
    }
   ],
   "source": [
    "#Q5\n",
    "#from search import BST\n",
    "tree.height()"
   ]
  },
  {
   "cell_type": "code",
   "execution_count": 23,
   "id": "2f46ae22-eb71-48e8-b86b-ea2c838a02e7",
   "metadata": {},
   "outputs": [
    {
     "data": {
      "image/png": "[encoded data removed]",
      "text/plain": [
       "<Figure size 1000x600 with 1 Axes>"
      ]
     },
     "metadata": {},
     "output_type": "display_data"
    }
   ],
   "source": [
    "#Q6\n",
    "import time\n",
    "import matplotlib.pyplot as plt\n",
    "\n",
    "from loans import Bank\n",
    "from search import BST\n",
    "\n",
    "uwcu_bank = Bank(\"University of Wisconsin Credit Union\")\n",
    "loanTree = BST() #object\n",
    "numLoans = []\n",
    "cumulativeTimes = []\n",
    "startTime = time.time()\n",
    "\n",
    "for loans in uwcu_bank.loans:\n",
    "    beforeTime = time.time()\n",
    "    loanTree.add(loans.interest_rate, loans)\n",
    "    afterTime = time.time()\n",
    "    elapsedTime = afterTime - startTime\n",
    "    numLoans.append(len(numLoans)+1)\n",
    "    cumulativeTimes.append(elapsedTime)\n",
    "    \n",
    "plt.figure(figsize=(10, 6))\n",
    "plt.plot(numLoans, cumulativeTimes)\n",
    "plt.xlabel('BST Adds')\n",
    "plt.ylabel('Total Elapsed Milliseconds')\n",
    "plt.show()"
   ]
  },
  {
   "cell_type": "code",
   "execution_count": 24,
   "id": "6d429488-d290-4027-b57b-3ee69c3470b9",
   "metadata": {},
   "outputs": [
    {
     "data": {
      "image/png": "[encoded data removed]",
      "text/plain": [
       "<Figure size 800x600 with 1 Axes>"
      ]
     },
     "metadata": {},
     "output_type": "display_data"
    }
   ],
   "source": [
    "#Q7\n",
    "start_time_loop = time.time()\n",
    "missing_count_loop = sum(1 for loan in uwcu_bank.loans if loan.interest_rate == -1)\n",
    "end_time_loop = time.time()\n",
    "\n",
    "loop_duration = end_time_loop - start_time_loop\n",
    "\n",
    "start_time_bst = time.time()\n",
    "missing_count_bst = len(loanTree[-1])\n",
    "end_time_bst = time.time()\n",
    "\n",
    "bst_duration = end_time_bst - start_time_bst\n",
    "assert missing_count_loop == missing_count_bst\n",
    "\n",
    "methods = [\"Loop\", \"BST\"]\n",
    "times = [loop_duration, bst_duration]\n",
    "\n",
    "plt.figure(figsize=(8, 6))\n",
    "plt.bar(methods, times, color=['blue', 'green'])\n",
    "plt.ylabel('Milliseconds')\n",
    "plt.show()"
   ]
  },
  {
   "cell_type": "code",
   "execution_count": 25,
   "id": "e779b3ab-7398-43cb-81a4-c1d0c252b815",
   "metadata": {},
   "outputs": [
    {
     "data": {
      "image/png": "[encoded data removed]",
      "text/plain": [
       "<Figure size 640x480 with 1 Axes>"
      ]
     },
     "metadata": {},
     "output_type": "display_data"
    }
   ],
   "source": [
    "#Q8\n",
    "from collections import defaultdict\n",
    "\n",
    "race_counts = defaultdict(int)\n",
    "\n",
    "for loan in uwcu_bank.loans:\n",
    "    for applicant in loan.applicants:\n",
    "        num_races = len(applicant.race)\n",
    "        race_counts[num_races] += 1\n",
    "        \n",
    "labels = list(race_counts.keys())\n",
    "values = list(race_counts.values())\n",
    "\n",
    "plt.bar(labels, values)\n",
    "plt.xlabel('Number of Race Identities')\n",
    "plt.ylabel('Number of Applicants')\n",
    "plt.show()"
   ]
  },
  {
   "cell_type": "code",
   "execution_count": 26,
   "id": "8f902afc-052e-48b7-8c11-1a6978ab8fdf",
   "metadata": {},
   "outputs": [
    {
     "data": {
      "text/plain": [
       "13"
      ]
     },
     "execution_count": 26,
     "metadata": {},
     "output_type": "execute_result"
    }
   ],
   "source": [
    "#Q9\n",
    "uwcu = Bank(\"University of Wisconsin Credit Union\")\n",
    "tree = BST()\n",
    "\n",
    "for loan in uwcu.loans:\n",
    "    tree.add(loan.interest_rate, loan)\n",
    "tree.count_leaves()"
   ]
  },
  {
   "cell_type": "code",
   "execution_count": 27,
   "id": "61bc375c-b0a7-409d-bc1f-1efbf22cc49b",
   "metadata": {},
   "outputs": [
    {
     "data": {
      "text/plain": [
       "6.49"
      ]
     },
     "execution_count": 27,
     "metadata": {},
     "output_type": "execute_result"
    }
   ],
   "source": [
    "#Q10\n",
    "fifth_largest_rate = tree.nth_largest(5)\n",
    "fifth_largest_rate"
   ]
  },
  {
   "cell_type": "code",
   "execution_count": null,
   "id": "37458297-9532-4743-beca-2026a6eacd69",
   "metadata": {},
   "outputs": [],
   "source": []
  }
 ],
 "metadata": {
  "kernelspec": {
   "display_name": "Python 3 (ipykernel)",
   "language": "python",
   "name": "python3"
  },
  "language_info": {
   "codemirror_mode": {
    "name": "ipython",
    "version": 3
   },
   "file_extension": ".py",
   "mimetype": "text/x-python",
   "name": "python",
   "nbconvert_exporter": "python",
   "pygments_lexer": "ipython3",
   "version": "3.10.12"
  }
 },
 "nbformat": 4,
 "nbformat_minor": 5
}
